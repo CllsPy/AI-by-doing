{
  "nbformat": 4,
  "nbformat_minor": 0,
  "metadata": {
    "colab": {
      "private_outputs": true,
      "provenance": []
    },
    "kernelspec": {
      "name": "python3",
      "display_name": "Python 3"
    },
    "language_info": {
      "name": "python"
    }
  },
  "cells": [
    {
      "cell_type": "code",
      "execution_count": null,
      "metadata": {
        "id": "-JFsQ0hqK8A4"
      },
      "outputs": [],
      "source": []
    },
    {
      "cell_type": "markdown",
      "source": [
        "You start creating a sample of the population. Let's say, if we have L = [1, 0, 1, 1]. We can create a series of variations that are we starting point. Let's say:\n",
        "\n",
        "\n",
        "```python\n",
        "1. [0, 1, 1, 1]\n",
        "2. [0, 0, 0, 0]\n",
        "\n",
        "...\n",
        "...\n",
        "...\n",
        "\n",
        "n. [1, 0, 1, 1]\n",
        "```"
      ],
      "metadata": {
        "id": "U_p-jQCuLA8f"
      }
    },
    {
      "cell_type": "code",
      "source": [
        "import random\n",
        "\n",
        "# Parameters\n",
        "POP_SIZE = 10  # Population size\n",
        "GENOME_LENGTH = 10  # Length of each binary string\n",
        "MUTATION_RATE = 0.01  # Probability of mutation\n",
        "MAX_GENERATIONS = 1000  # Maximum number of generations"
      ],
      "metadata": {
        "id": "uTC_oGUlLXmF"
      },
      "execution_count": null,
      "outputs": []
    },
    {
      "cell_type": "markdown",
      "source": [
        "Let's start creating our individuals, imagine this a the size of our problem. We could have a size of 5, 7 or 1min. It's just the len of the array."
      ],
      "metadata": {
        "id": "Miq1g-hRMLhi"
      }
    },
    {
      "cell_type": "code",
      "source": [
        "# Create a random individual (binary string)\n",
        "def create_individual():\n",
        "    return [random.randint(0, 1) for _ in range(GENOME_LENGTH)]\n",
        "\n",
        "create_individual()"
      ],
      "metadata": {
        "id": "wLdfXHoPL-l6"
      },
      "execution_count": null,
      "outputs": []
    },
    {
      "cell_type": "markdown",
      "source": [
        "2. We desorganize the original individual, by organizing in diferents combinations, no AI for now."
      ],
      "metadata": {
        "id": "vp3bnCVLMiXA"
      }
    },
    {
      "cell_type": "code",
      "source": [
        "# Create an initial population\n",
        "def create_population():\n",
        "    return [create_individual() for _ in range(POP_SIZE)]\n",
        "\n",
        "create_population()[:5]"
      ],
      "metadata": {
        "id": "7JCctJ89McXN"
      },
      "execution_count": null,
      "outputs": []
    },
    {
      "cell_type": "markdown",
      "source": [
        "3. Create a function for mesure, how good each indivual from our population is really good. In our care, more we have one, better."
      ],
      "metadata": {
        "id": "RyAX6H3RM28h"
      }
    },
    {
      "cell_type": "code",
      "source": [
        "p = create_population()\n",
        "def fitness(individual):\n",
        "    return sum(individual)\n",
        "\n",
        "## in this case 8, is great.\n",
        "for _ in p:\n",
        "    print(fitness(_))"
      ],
      "metadata": {
        "id": "T4iXl6MAM8yB"
      },
      "execution_count": null,
      "outputs": []
    },
    {
      "cell_type": "markdown",
      "source": [
        "4. Things start to get intelligent. We create a function for choose at random a individual that have a hight fitness than the random values choose betwen (0 and the total fitness)."
      ],
      "metadata": {
        "id": "oU3DhXw1N0i6"
      }
    },
    {
      "cell_type": "code",
      "source": [
        "# Select parents based on fitness (roulette-wheel selection)\n",
        "def select_parents(population):\n",
        "    total_fitness = sum(fitness(individual) for individual in population)\n",
        "    pick = random.uniform(0, total_fitness)\n",
        "    current = 0\n",
        "    for individual in population:\n",
        "        current += fitness(individual)\n",
        "        if current > pick:\n",
        "            return individual\n",
        "\n"
      ],
      "metadata": {
        "id": "GiHle6DHNrjg"
      },
      "execution_count": null,
      "outputs": []
    },
    {
      "cell_type": "markdown",
      "source": [
        "5.  This piece of code, don't care about the algo, just combine two parents to get some good answer."
      ],
      "metadata": {
        "id": "v52pLj0iRnAg"
      }
    },
    {
      "cell_type": "code",
      "source": [
        "# Crossover: Combine parts of two parents to create offspring\n",
        "def crossover(parent1, parent2):\n",
        "    crossover_point = random.randint(1, GENOME_LENGTH - 1)\n",
        "    child1 = parent1[:crossover_point] + parent2[crossover_point:]\n",
        "    child2 = parent2[:crossover_point] + parent1[crossover_point:]\n",
        "    return child1, child2"
      ],
      "metadata": {
        "id": "-x9gG0KQRmWn"
      },
      "execution_count": null,
      "outputs": []
    },
    {
      "cell_type": "markdown",
      "source": [
        "6. Anothe feature, we change a value at random so, maybe this value could make the answer much better."
      ],
      "metadata": {
        "id": "NyykOf5gRxMv"
      }
    },
    {
      "cell_type": "code",
      "source": [
        "# Mutation: Randomly flip a bit with a small probability\n",
        "def mutate(individual):\n",
        "    for i in range(len(individual)):\n",
        "        if random.random() < MUTATION_RATE:\n",
        "            individual[i] = 1 - individual[i]  # Flip the bit\n",
        "    return individual\n"
      ],
      "metadata": {
        "id": "T3A71llyR2xl"
      },
      "execution_count": null,
      "outputs": []
    },
    {
      "cell_type": "markdown",
      "source": [
        "7. The colaboration with our anothers strategies (mutate, rollete, crossover), create a better answer."
      ],
      "metadata": {
        "id": "uJeJIrYcR8d3"
      }
    },
    {
      "cell_type": "code",
      "source": [
        "# Evolve the population through selection, crossover, and mutation\n",
        "def evolve_population(population):\n",
        "    new_population = []\n",
        "    while len(new_population) < POP_SIZE:\n",
        "        # Select two parents\n",
        "        parent1 = select_parents(population)\n",
        "        parent2 = select_parents(population)\n",
        "\n",
        "        # Perform crossover\n",
        "        child1, child2 = crossover(parent1, parent2)\n",
        "\n",
        "        # Apply mutation\n",
        "        child1 = mutate(child1)\n",
        "        child2 = mutate(child2)\n",
        "\n",
        "        # Add offspring to the new population\n",
        "        new_population.append(child1)\n",
        "        if len(new_population) < POP_SIZE:\n",
        "            new_population.append(child2)\n",
        "    return new_population"
      ],
      "metadata": {
        "id": "xeBpWr98R61X"
      },
      "execution_count": null,
      "outputs": []
    },
    {
      "cell_type": "markdown",
      "source": [
        "8. Run"
      ],
      "metadata": {
        "id": "kRjn160-SF9G"
      }
    },
    {
      "cell_type": "code",
      "source": [
        "# Run the Genetic Algorithm\n",
        "def genetic_algorithm():\n",
        "    population = create_population()\n",
        "    for generation in range(MAX_GENERATIONS):\n",
        "        # Evaluate the fitness of the population\n",
        "        fitness_scores = [fitness(ind) for ind in population]\n",
        "\n",
        "        # Find the best individual in the population\n",
        "        best_individual = max(population, key=fitness)\n",
        "        best_fitness = fitness(best_individual)\n",
        "\n",
        "        # Print the best individual and its fitness\n",
        "        print(f\"Generation {generation}: Best Individual = {best_individual}, Fitness = {best_fitness}\")\n",
        "\n",
        "        # Stop if we've found a perfect individual\n",
        "        if best_fitness == GENOME_LENGTH:\n",
        "            print(\"Optimal solution found!\")\n",
        "            break\n",
        "\n",
        "        # Evolve to the next generation\n",
        "        population = evolve_population(population)\n",
        "\n",
        "# Run the algorithm\n",
        "genetic_algorithm()\n"
      ],
      "metadata": {
        "id": "gBnlE9kgSHQv"
      },
      "execution_count": null,
      "outputs": []
    }
  ]
}