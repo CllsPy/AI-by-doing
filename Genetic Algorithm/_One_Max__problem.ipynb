{
 "cells": [
  {
   "cell_type": "code",
   "execution_count": null,
   "metadata": {
    "id": "-JFsQ0hqK8A4"
   },
   "outputs": [],
   "source": []
  },
  {
   "cell_type": "markdown",
   "metadata": {
    "id": "U_p-jQCuLA8f"
   },
   "source": [
    "You start creating a sample of the population. Let's say, if we have L = [1, 0, 1, 1]. We can create a series of variations that are we starting point. Let's say:\n",
    "\n",
    "\n",
    "```python\n",
    "1. [0, 1, 1, 1]\n",
    "2. [0, 0, 0, 0]\n",
    "\n",
    "...\n",
    "...\n",
    "...\n",
    "\n",
    "n. [1, 0, 1, 1]\n",
    "```"
   ]
  },
  {
   "cell_type": "code",
   "execution_count": 1,
   "metadata": {
    "id": "uTC_oGUlLXmF"
   },
   "outputs": [],
   "source": [
    "import random\n",
    "\n",
    "# Parameters\n",
    "POP_SIZE = 10  # Population size\n",
    "GENOME_LENGTH = 10  # Length of each binary string\n",
    "MUTATION_RATE = 0.01  # Probability of mutation\n",
    "MAX_GENERATIONS = 1000  # Maximum number of generations"
   ]
  },
  {
   "cell_type": "markdown",
   "metadata": {
    "id": "Miq1g-hRMLhi"
   },
   "source": [
    "Let's start creating our individuals, imagine this a the size of our problem. We could have a size of 5, 7 or 1min. It's just the len of the array."
   ]
  },
  {
   "cell_type": "code",
   "execution_count": 2,
   "metadata": {
    "id": "wLdfXHoPL-l6"
   },
   "outputs": [
    {
     "data": {
      "text/plain": [
       "[1, 0, 1, 1, 0, 1, 0, 0, 1, 1]"
      ]
     },
     "execution_count": 2,
     "metadata": {},
     "output_type": "execute_result"
    }
   ],
   "source": [
    "# Create a random individual (binary string)\n",
    "def create_individual():\n",
    "    return [random.randint(0, 1) for _ in range(GENOME_LENGTH)]\n",
    "\n",
    "create_individual()"
   ]
  },
  {
   "cell_type": "markdown",
   "metadata": {
    "id": "vp3bnCVLMiXA"
   },
   "source": [
    "2. We desorganize the original individual, by organizing in diferents combinations, no AI for now."
   ]
  },
  {
   "cell_type": "code",
   "execution_count": 3,
   "metadata": {
    "id": "7JCctJ89McXN"
   },
   "outputs": [
    {
     "data": {
      "text/plain": [
       "[[1, 1, 1, 0, 1, 1, 0, 0, 0, 1],\n",
       " [1, 1, 1, 1, 1, 0, 0, 0, 1, 1],\n",
       " [0, 0, 1, 0, 1, 1, 0, 1, 0, 0],\n",
       " [1, 1, 1, 1, 0, 0, 1, 1, 0, 1],\n",
       " [1, 0, 0, 1, 1, 0, 0, 0, 0, 0]]"
      ]
     },
     "execution_count": 3,
     "metadata": {},
     "output_type": "execute_result"
    }
   ],
   "source": [
    "# Create an initial population\n",
    "def create_population():\n",
    "    return [create_individual() for _ in range(POP_SIZE)]\n",
    "\n",
    "create_population()[:5]"
   ]
  },
  {
   "cell_type": "markdown",
   "metadata": {
    "id": "RyAX6H3RM28h"
   },
   "source": [
    "3. Create a function for mesure, how good each indivual from our population is really good. In our care, more we have one, better."
   ]
  },
  {
   "cell_type": "code",
   "execution_count": 4,
   "metadata": {
    "id": "T4iXl6MAM8yB"
   },
   "outputs": [
    {
     "name": "stdout",
     "output_type": "stream",
     "text": [
      "5\n",
      "4\n",
      "1\n",
      "3\n",
      "5\n",
      "5\n",
      "5\n",
      "4\n",
      "4\n",
      "4\n"
     ]
    }
   ],
   "source": [
    "p = create_population()\n",
    "def fitness(individual):\n",
    "    return sum(individual)\n",
    "\n",
    "## in this case 8, is great.\n",
    "for _ in p:\n",
    "    print(fitness(_))"
   ]
  },
  {
   "cell_type": "markdown",
   "metadata": {
    "id": "oU3DhXw1N0i6"
   },
   "source": [
    "4. Things start to get intelligent. We create a function for choose at random a individual that have a hight fitness than the random values choose betwen (0 and the total fitness)."
   ]
  },
  {
   "cell_type": "code",
   "execution_count": 5,
   "metadata": {
    "id": "GiHle6DHNrjg"
   },
   "outputs": [],
   "source": [
    "# Select parents based on fitness (roulette-wheel selection)\n",
    "def select_parents(population):\n",
    "    total_fitness = sum(fitness(individual) for individual in population)\n",
    "    pick = random.uniform(0, total_fitness)\n",
    "    current = 0\n",
    "    for individual in population:\n",
    "        current += fitness(individual)\n",
    "        if current > pick:\n",
    "            return individual\n",
    "\n"
   ]
  },
  {
   "cell_type": "markdown",
   "metadata": {
    "id": "v52pLj0iRnAg"
   },
   "source": [
    "5.  This piece of code, don't care about the algo, just combine two parents to get some good answer."
   ]
  },
  {
   "cell_type": "code",
   "execution_count": 6,
   "metadata": {
    "id": "-x9gG0KQRmWn"
   },
   "outputs": [],
   "source": [
    "# Crossover: Combine parts of two parents to create offspring\n",
    "def crossover(parent1, parent2):\n",
    "    crossover_point = random.randint(1, GENOME_LENGTH - 1)\n",
    "    child1 = parent1[:crossover_point] + parent2[crossover_point:]\n",
    "    child2 = parent2[:crossover_point] + parent1[crossover_point:]\n",
    "    return child1, child2"
   ]
  },
  {
   "cell_type": "markdown",
   "metadata": {
    "id": "NyykOf5gRxMv"
   },
   "source": [
    "6. Anothe feature, we change a value at random so, maybe this value could make the answer much better."
   ]
  },
  {
   "cell_type": "code",
   "execution_count": 7,
   "metadata": {
    "id": "T3A71llyR2xl"
   },
   "outputs": [],
   "source": [
    "# Mutation: Randomly flip a bit with a small probability\n",
    "def mutate(individual):\n",
    "    for i in range(len(individual)):\n",
    "        if random.random() < MUTATION_RATE:\n",
    "            individual[i] = 1 - individual[i]  # Flip the bit\n",
    "    return individual\n"
   ]
  },
  {
   "cell_type": "markdown",
   "metadata": {
    "id": "uJeJIrYcR8d3"
   },
   "source": [
    "7. The colaboration with our anothers strategies (mutate, rollete, crossover), create a better answer."
   ]
  },
  {
   "cell_type": "code",
   "execution_count": 8,
   "metadata": {
    "id": "xeBpWr98R61X"
   },
   "outputs": [],
   "source": [
    "# Evolve the population through selection, crossover, and mutation\n",
    "def evolve_population(population):\n",
    "    new_population = []\n",
    "    while len(new_population) < POP_SIZE:\n",
    "        # Select two parents\n",
    "        parent1 = select_parents(population)\n",
    "        parent2 = select_parents(population)\n",
    "\n",
    "        # Perform crossover\n",
    "        child1, child2 = crossover(parent1, parent2)\n",
    "\n",
    "        # Apply mutation\n",
    "        child1 = mutate(child1)\n",
    "        child2 = mutate(child2)\n",
    "\n",
    "        # Add offspring to the new population\n",
    "        new_population.append(child1)\n",
    "        if len(new_population) < POP_SIZE:\n",
    "            new_population.append(child2)\n",
    "    return new_population"
   ]
  },
  {
   "cell_type": "markdown",
   "metadata": {
    "id": "kRjn160-SF9G"
   },
   "source": [
    "8. Run"
   ]
  },
  {
   "cell_type": "code",
   "execution_count": 9,
   "metadata": {
    "id": "gBnlE9kgSHQv"
   },
   "outputs": [
    {
     "name": "stdout",
     "output_type": "stream",
     "text": [
      "Generation 0: Best Individual = [1, 1, 1, 0, 1, 0, 1, 1, 1, 1], Fitness = 8\n",
      "Generation 1: Best Individual = [1, 1, 1, 0, 1, 0, 1, 1, 1, 0], Fitness = 7\n",
      "Generation 2: Best Individual = [1, 1, 0, 1, 1, 1, 1, 0, 1, 0], Fitness = 7\n",
      "Generation 3: Best Individual = [0, 1, 1, 0, 1, 1, 1, 1, 1, 1], Fitness = 8\n",
      "Generation 4: Best Individual = [1, 1, 1, 0, 1, 1, 1, 1, 1, 1], Fitness = 9\n",
      "Generation 5: Best Individual = [1, 1, 1, 0, 1, 1, 1, 1, 1, 1], Fitness = 9\n",
      "Generation 6: Best Individual = [1, 1, 1, 0, 1, 1, 1, 1, 1, 1], Fitness = 9\n",
      "Generation 7: Best Individual = [1, 1, 0, 0, 1, 1, 1, 0, 1, 1], Fitness = 7\n",
      "Generation 8: Best Individual = [1, 1, 0, 0, 1, 1, 1, 0, 1, 1], Fitness = 7\n",
      "Generation 9: Best Individual = [1, 1, 0, 0, 1, 1, 1, 1, 1, 0], Fitness = 7\n",
      "Generation 10: Best Individual = [0, 1, 0, 0, 1, 1, 1, 1, 1, 1], Fitness = 7\n",
      "Generation 11: Best Individual = [0, 1, 0, 0, 1, 1, 1, 1, 1, 1], Fitness = 7\n",
      "Generation 12: Best Individual = [1, 1, 1, 0, 1, 1, 1, 0, 1, 1], Fitness = 8\n",
      "Generation 13: Best Individual = [0, 1, 1, 0, 0, 1, 1, 1, 1, 1], Fitness = 7\n",
      "Generation 14: Best Individual = [0, 1, 1, 0, 1, 1, 1, 0, 1, 1], Fitness = 7\n",
      "Generation 15: Best Individual = [0, 1, 1, 0, 1, 1, 0, 1, 1, 1], Fitness = 7\n",
      "Generation 16: Best Individual = [1, 1, 1, 0, 1, 1, 1, 0, 1, 1], Fitness = 8\n",
      "Generation 17: Best Individual = [1, 1, 1, 0, 1, 1, 1, 0, 1, 1], Fitness = 8\n",
      "Generation 18: Best Individual = [1, 1, 1, 1, 1, 1, 0, 1, 1, 1], Fitness = 9\n",
      "Generation 19: Best Individual = [1, 1, 1, 0, 1, 1, 1, 1, 1, 1], Fitness = 9\n",
      "Generation 20: Best Individual = [1, 1, 1, 1, 1, 1, 1, 0, 1, 1], Fitness = 9\n",
      "Generation 21: Best Individual = [1, 1, 1, 1, 1, 1, 1, 0, 1, 1], Fitness = 9\n",
      "Generation 22: Best Individual = [1, 1, 1, 1, 1, 1, 1, 0, 1, 1], Fitness = 9\n",
      "Generation 23: Best Individual = [1, 1, 1, 1, 1, 1, 1, 0, 1, 1], Fitness = 9\n",
      "Generation 24: Best Individual = [1, 1, 1, 1, 1, 1, 1, 0, 1, 1], Fitness = 9\n",
      "Generation 25: Best Individual = [1, 1, 1, 1, 1, 1, 1, 0, 1, 1], Fitness = 9\n",
      "Generation 26: Best Individual = [1, 1, 1, 0, 1, 1, 1, 0, 1, 1], Fitness = 8\n",
      "Generation 27: Best Individual = [1, 1, 1, 0, 1, 1, 1, 0, 1, 1], Fitness = 8\n",
      "Generation 28: Best Individual = [1, 1, 1, 0, 1, 1, 1, 0, 1, 1], Fitness = 8\n",
      "Generation 29: Best Individual = [1, 1, 1, 0, 1, 1, 1, 0, 1, 1], Fitness = 8\n",
      "Generation 30: Best Individual = [1, 1, 1, 0, 1, 1, 1, 0, 1, 1], Fitness = 8\n",
      "Generation 31: Best Individual = [1, 1, 1, 0, 1, 1, 1, 0, 1, 1], Fitness = 8\n",
      "Generation 32: Best Individual = [1, 1, 1, 0, 1, 1, 1, 0, 1, 0], Fitness = 7\n",
      "Generation 33: Best Individual = [1, 1, 1, 0, 1, 1, 1, 1, 1, 0], Fitness = 8\n",
      "Generation 34: Best Individual = [1, 1, 1, 0, 1, 1, 1, 1, 1, 0], Fitness = 8\n",
      "Generation 35: Best Individual = [1, 1, 1, 0, 1, 1, 1, 1, 1, 0], Fitness = 8\n",
      "Generation 36: Best Individual = [1, 1, 1, 0, 1, 1, 1, 1, 1, 0], Fitness = 8\n",
      "Generation 37: Best Individual = [1, 1, 1, 1, 1, 1, 1, 1, 1, 0], Fitness = 9\n",
      "Generation 38: Best Individual = [1, 1, 1, 1, 1, 1, 1, 0, 1, 1], Fitness = 9\n",
      "Generation 39: Best Individual = [1, 1, 1, 1, 1, 1, 1, 0, 1, 1], Fitness = 9\n",
      "Generation 40: Best Individual = [1, 1, 1, 0, 1, 1, 1, 1, 1, 1], Fitness = 9\n",
      "Generation 41: Best Individual = [1, 1, 1, 1, 1, 1, 1, 0, 1, 1], Fitness = 9\n",
      "Generation 42: Best Individual = [1, 1, 1, 1, 1, 1, 1, 1, 1, 0], Fitness = 9\n",
      "Generation 43: Best Individual = [1, 1, 1, 1, 1, 1, 1, 1, 1, 0], Fitness = 9\n",
      "Generation 44: Best Individual = [1, 1, 1, 0, 1, 1, 1, 1, 1, 1], Fitness = 9\n",
      "Generation 45: Best Individual = [1, 1, 1, 1, 1, 1, 1, 1, 1, 1], Fitness = 10\n",
      "Optimal solution found!\n"
     ]
    }
   ],
   "source": [
    "# Run the Genetic Algorithm\n",
    "def genetic_algorithm():\n",
    "    population = create_population()\n",
    "    for generation in range(MAX_GENERATIONS):\n",
    "        # Evaluate the fitness of the population\n",
    "        fitness_scores = [fitness(ind) for ind in population]\n",
    "\n",
    "        # Find the best individual in the population\n",
    "        best_individual = max(population, key=fitness)\n",
    "        best_fitness = fitness(best_individual)\n",
    "\n",
    "        # Print the best individual and its fitness\n",
    "        print(f\"Generation {generation}: Best Individual = {best_individual}, Fitness = {best_fitness}\")\n",
    "\n",
    "        # Stop if we've found a perfect individual\n",
    "        if best_fitness == GENOME_LENGTH:\n",
    "            print(\"Optimal solution found!\")\n",
    "            break\n",
    "\n",
    "        # Evolve to the next generation\n",
    "        population = evolve_population(population)\n",
    "\n",
    "# Run the algorithm\n",
    "genetic_algorithm()\n"
   ]
  }
 ],
 "metadata": {
  "colab": {
   "private_outputs": true,
   "provenance": []
  },
  "kernelspec": {
   "display_name": "Python 3",
   "name": "python3"
  },
  "language_info": {
   "codemirror_mode": {
    "name": "ipython",
    "version": 3
   },
   "file_extension": ".py",
   "mimetype": "text/x-python",
   "name": "python",
   "nbconvert_exporter": "python",
   "pygments_lexer": "ipython3",
   "version": "3.12.1"
  }
 },
 "nbformat": 4,
 "nbformat_minor": 0
}
