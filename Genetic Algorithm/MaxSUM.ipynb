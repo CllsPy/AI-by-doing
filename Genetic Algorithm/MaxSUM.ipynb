{
  "nbformat": 4,
  "nbformat_minor": 0,
  "metadata": {
    "colab": {
      "private_outputs": true,
      "provenance": []
    },
    "kernelspec": {
      "name": "python3",
      "display_name": "Python 3"
    },
    "language_info": {
      "name": "python"
    }
  },
  "cells": [
    {
      "cell_type": "code",
      "execution_count": null,
      "metadata": {
        "id": "SC5vAfld8Lmi"
      },
      "outputs": [],
      "source": []
    },
    {
      "cell_type": "markdown",
      "source": [
        "# Task: Using GA for find the MAX possible SUM."
      ],
      "metadata": {
        "id": "K8lsPQ_m8PLz"
      }
    },
    {
      "cell_type": "code",
      "source": [
        "import random\n",
        "import numpy as np\n",
        "\n",
        "\n",
        "POP_SIZE = 100  # Population size\n",
        "GENOME_LENGTH = 10  # Length of each binary string\n",
        "MUTATION_RATE = 0.01  # Probability of mutation\n",
        "MAX_GENERATIONS = 10000  # Maximum number of generations\n",
        ""
      ],
      "metadata": {
        "id": "NtVoGqWm8SiV"
      },
      "execution_count": null,
      "outputs": []
    },
    {
      "cell_type": "code",
      "source": [
        "# Create a random individual (binary string)\n",
        "def create_individual():\n",
        "    return [random.randint(0, 10) for _ in range(GENOME_LENGTH)]\n",
        "\n",
        "create_individual()"
      ],
      "metadata": {
        "id": "Z0Upzfxp9LBI"
      },
      "execution_count": null,
      "outputs": []
    },
    {
      "cell_type": "code",
      "source": [
        "# Create an initial population\n",
        "def create_population():\n",
        "    return [create_individual() for _ in range(POP_SIZE)]\n",
        "\n",
        "#create_population()"
      ],
      "metadata": {
        "id": "QlzD0KuS-pH0"
      },
      "execution_count": null,
      "outputs": []
    },
    {
      "cell_type": "code",
      "source": [
        "p = create_population()\n",
        "def fitness(individual):\n",
        "    return sum(individual)\n",
        "\n",
        "# ## in this case 8, is great.\n",
        "# for _ in p:\n",
        "#     print(fitness(_))"
      ],
      "metadata": {
        "id": "Lc1ZCW3L-zCb"
      },
      "execution_count": null,
      "outputs": []
    },
    {
      "cell_type": "code",
      "source": [
        "def select_parents(population):\n",
        "    tournament_size = 5\n",
        "    tournament = random.sample(population, tournament_size)\n",
        "    return max(tournament, key=fitness)\n"
      ],
      "metadata": {
        "id": "ljauTyxc_1f6"
      },
      "execution_count": null,
      "outputs": []
    },
    {
      "cell_type": "code",
      "source": [
        "# Crossover: Combine parts of two parents to create offspring\n",
        "def crossover(parent1, parent2):\n",
        "    crossover_point = random.randint(1, GENOME_LENGTH - 1)\n",
        "    child1 = parent1[:crossover_point] + parent2[crossover_point:]\n",
        "    child2 = parent2[:crossover_point] + parent1[crossover_point:]\n",
        "    return child1, child2"
      ],
      "metadata": {
        "id": "Aph_2gz4AApJ"
      },
      "execution_count": null,
      "outputs": []
    },
    {
      "cell_type": "code",
      "source": [
        "def mutate(individual):\n",
        "    for i in range(len(individual)):\n",
        "        if random.random() < MUTATION_RATE:\n",
        "            individual[i] = random.randint(0, 10)  # Replace with a new random value\n",
        "    return individual\n"
      ],
      "metadata": {
        "id": "nKYUlrj-AHkT"
      },
      "execution_count": null,
      "outputs": []
    },
    {
      "cell_type": "code",
      "source": [
        "def evolve_population(population):\n",
        "    new_population = []\n",
        "    while len(new_population) < POP_SIZE:\n",
        "        parent1 = select_parents(population)\n",
        "        parent2 = select_parents(population)\n",
        "        child1, child2 = crossover(parent1, parent2)\n",
        "        child1 = mutate(child1)\n",
        "        child2 = mutate(child2)\n",
        "        new_population.extend([child1, child2])\n",
        "\n",
        "    # Maintain diversity by replacing a portion of the population\n",
        "    diversity_rate = 0.1  # Replace 10% of the population\n",
        "    for _ in range(int(POP_SIZE * diversity_rate)):\n",
        "        new_population[random.randint(0, POP_SIZE - 1)] = create_individual()\n",
        "    return new_population\n"
      ],
      "metadata": {
        "id": "H54CdzHvAKya"
      },
      "execution_count": null,
      "outputs": []
    },
    {
      "cell_type": "code",
      "source": [
        "# Run the Genetic Algorithm\n",
        "def genetic_algorithm():\n",
        "    population = create_population()\n",
        "    for generation in range(MAX_GENERATIONS):\n",
        "        # Evaluate the fitness of the population\n",
        "        fitness_scores = [fitness(ind) for ind in population]\n",
        "\n",
        "        # Find the best individual in the population\n",
        "        best_individual = max(population, key=fitness)\n",
        "        best_fitness = fitness(best_individual)\n",
        "\n",
        "        # Print the best individual and its fitness\n",
        "        print(f\"Generation {generation}: Best Individual = {best_individual}, Fitness = {best_fitness}\")\n",
        "\n",
        "        MAX_FITNESS = GENOME_LENGTH * 10  # Maximum sum if all genes are 10\n",
        "        if best_fitness == MAX_FITNESS:\n",
        "            print(\"Optimal solution found!\")\n",
        "            break\n",
        "\n",
        "        # Evolve to the next generation\n",
        "        population = evolve_population(population)\n",
        "\n",
        "# Run the algorithm\n",
        "genetic_algorithm()"
      ],
      "metadata": {
        "id": "ky3osKMDARHB"
      },
      "execution_count": null,
      "outputs": []
    }
  ]
}