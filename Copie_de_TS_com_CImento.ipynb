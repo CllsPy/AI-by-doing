{
  "nbformat": 4,
  "nbformat_minor": 0,
  "metadata": {
    "colab": {
      "private_outputs": true,
      "provenance": [],
      "mount_file_id": "1KN62XeUZqrMjRTjmquDcPcFb8uC-I8Q3",
      "authorship_tag": "ABX9TyOIO0ePbYJN45VOgxyXyFBX",
      "include_colab_link": true
    },
    "kernelspec": {
      "name": "python3",
      "display_name": "Python 3"
    },
    "language_info": {
      "name": "python"
    }
  },
  "cells": [
    {
      "cell_type": "markdown",
      "metadata": {
        "id": "view-in-github",
        "colab_type": "text"
      },
      "source": [
        "<a href=\"https://colab.research.google.com/github/CllsPy/AI-by-doing/blob/main/Copie_de_TS_com_CImento.ipynb\" target=\"_parent\"><img src=\"https://colab.research.google.com/assets/colab-badge.svg\" alt=\"Open In Colab\"/></a>"
      ]
    },
    {
      "cell_type": "code",
      "execution_count": null,
      "metadata": {
        "id": "iGNi-SneQnRE"
      },
      "outputs": [],
      "source": [
        "import pandas as pd\n",
        "import numpy as np\n",
        "import matplotlib.pyplot as plt\n",
        "import sklearn"
      ]
    },
    {
      "cell_type": "code",
      "source": [
        "df = pd.read_csv('/content/drive/MyDrive/Outros/Colab Notebooks/PIBIC2025/Times Series/Data/SNIC Consumo-Ano.csv',\n",
        "                 parse_dates=['Ano'])\n",
        "df.tail()"
      ],
      "metadata": {
        "id": "CJmSK71odaTP"
      },
      "execution_count": null,
      "outputs": []
    },
    {
      "cell_type": "code",
      "source": [
        "df.info()"
      ],
      "metadata": {
        "id": "Ip4butHNdhbb"
      },
      "execution_count": null,
      "outputs": []
    },
    {
      "cell_type": "code",
      "source": [
        "# null vlaues\n",
        "df.isnull().sum()"
      ],
      "metadata": {
        "id": "6Eo3sFbaj0oN"
      },
      "execution_count": null,
      "outputs": []
    },
    {
      "cell_type": "code",
      "source": [
        "fig, ax = plt.subplots()\n",
        "ax.scatter(df['Ano'], df['Exportação'])\n",
        "plt.grid(True)"
      ],
      "metadata": {
        "id": "MSVq_eq8kt5N"
      },
      "execution_count": null,
      "outputs": []
    },
    {
      "cell_type": "markdown",
      "source": [
        "## Alagoas\n",
        "\n",
        "É preciso considerar algumas questões sobre este dataset\n",
        "\n",
        "* ausência de dia e ano.\n",
        "* pouca quantidade de dados.\n",
        "\n",
        "> Vou solicitar novamente os dados da plataforma."
      ],
      "metadata": {
        "id": "mOwIsnxWgWeR"
      }
    },
    {
      "cell_type": "code",
      "source": [
        "dfalagoas = pd.read_csv('/content/drive/MyDrive/Outros/Colab Notebooks/PIBIC2025/Times Series/Data/AlagoasCement.csv',\n",
        "                        parse_dates=['MES'])\n",
        "dfalagoas.head()"
      ],
      "metadata": {
        "id": "VIAKukVRdtMy"
      },
      "execution_count": null,
      "outputs": []
    },
    {
      "cell_type": "markdown",
      "source": [
        "> Não é possível aplicar `parsing_dates` neste dataset, uma vez que a coluna MES é *string*."
      ],
      "metadata": {
        "id": "62zd0QG2owhB"
      }
    },
    {
      "cell_type": "code",
      "source": [
        "dfalagoas.info()"
      ],
      "metadata": {
        "id": "dFBIpDBLf98C"
      },
      "execution_count": null,
      "outputs": []
    },
    {
      "cell_type": "markdown",
      "source": [
        "### Explorar Dados"
      ],
      "metadata": {
        "id": "dKUQNwrliodE"
      }
    },
    {
      "cell_type": "code",
      "source": [
        "# null vlaues\n",
        "dfalagoas.isnull().sum()"
      ],
      "metadata": {
        "id": "hQ7XhB2IipY0"
      },
      "execution_count": null,
      "outputs": []
    },
    {
      "cell_type": "code",
      "source": [
        "fig, ax = plt.subplots()\n",
        "ax.scatter(dfalagoas['MES'][:10], dfalagoas['TOTAL'][:10])\n",
        "plt.grid(True)"
      ],
      "metadata": {
        "id": "fF1aBRo3jyxh"
      },
      "execution_count": null,
      "outputs": []
    },
    {
      "cell_type": "markdown",
      "source": [
        "> O problema da escala é por conta que tem o TOTAL (Somando todos os meses). É Preciso remover."
      ],
      "metadata": {
        "id": "AF2hW_z1k_Ec"
      }
    }
  ]
}